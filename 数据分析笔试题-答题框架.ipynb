{
 "cells": [
  {
   "cell_type": "markdown",
   "id": "a6c81ef5",
   "metadata": {},
   "source": [
    "# 数据分析笔试题\n",
    "\n",
    "`data`文件夹中有三个数据表（详见[数据字典](#附数据字典)）。\n",
    "\n",
    "这是一个患者管理项目的子集。医生收录患者后，患者将按要求自行测量血糖，向系统上传血糖值；还需在管理一段时间后，定期回到医院做化验检查。请根据这些数据，回答以下问题：\n",
    "\n",
    "设：当前日期为2021年7月1日\n",
    "\n",
    "## Mysql操作\n",
    "\n",
    "假设这三个数据表来自Mysql数据库，写一个sql查询脚本，查询以下问题：\n",
    "1. 每位医生各收录几名患者？其中各有几名患者上传了血糖？\n",
    "2. 按收录患者数量降序排列"
   ]
  },
  {
   "cell_type": "code",
   "execution_count": 32,
   "id": "89602824",
   "metadata": {
    "ExecuteTime": {
     "end_time": "2021-08-23T02:17:30.760162Z",
     "start_time": "2021-08-23T02:17:30.614005Z"
    }
   },
   "outputs": [],
   "source": [
    "import pandas as pd\n",
    "import numpy as np\n",
    "import matplotlib.pyplot as plt\n",
    "import seaborn as sns\n",
    "import datetime as dt\n",
    "from scipy import stats\n",
    "import statsmodels.api as sm\n",
    "# from pymongo import MongoClient\n",
    "import gc\n",
    "gc.disable()\n",
    "%matplotlib inline"
   ]
  },
  {
   "cell_type": "code",
   "execution_count": 9,
   "id": "a368f1ad",
   "metadata": {
    "ExecuteTime": {
     "end_time": "2021-08-23T02:02:55.423960Z",
     "start_time": "2021-08-23T02:02:55.406999Z"
    }
   },
   "outputs": [
    {
     "name": "stdout",
     "output_type": "stream",
     "text": [
      "\n",
      "(请完善此处内容)\n",
      "\n"
     ]
    }
   ],
   "source": [
    "sql = '''\n",
    "(请完善此处内容)\n",
    "'''\n",
    "\n",
    "print(sql)"
   ]
  },
  {
   "cell_type": "markdown",
   "id": "d87e802f",
   "metadata": {},
   "source": [
    "## MongoDB操作\n",
    "\n",
    "假设`patient_list`表来自MongoDB数据库，字段层级均为单层，完善以下查询脚本，选出最近一个月（2021年6月）收录的患者"
   ]
  },
  {
   "cell_type": "markdown",
   "id": "f7f4ca80",
   "metadata": {
    "ExecuteTime": {
     "end_time": "2021-08-23T01:49:57.817690Z",
     "start_time": "2021-08-23T01:49:57.806687Z"
    }
   },
   "source": [
    "```python\n",
    "client = MongoClient('mongodb://<host>:<port>/')\n",
    "```"
   ]
  },
  {
   "cell_type": "code",
   "execution_count": 10,
   "id": "2ae00941",
   "metadata": {
    "ExecuteTime": {
     "end_time": "2021-08-23T02:03:02.245342Z",
     "start_time": "2021-08-23T02:03:02.231347Z"
    }
   },
   "outputs": [],
   "source": [
    "filt={\n",
    "   # 请完善此处内容\n",
    "}\n",
    "proj = {\n",
    "   # 请完善此处内容\n",
    "}"
   ]
  },
  {
   "cell_type": "markdown",
   "id": "94ee993a",
   "metadata": {
    "ExecuteTime": {
     "end_time": "2021-08-23T01:51:45.865622Z",
     "start_time": "2021-08-23T01:51:45.854621Z"
    }
   },
   "source": [
    "```python\n",
    "result = client[<db>][<collection>].find(\n",
    "    filter=filt,\n",
    "    projection=proj\n",
    ")\n",
    "```"
   ]
  },
  {
   "cell_type": "markdown",
   "id": "5f62d6cb",
   "metadata": {},
   "source": [
    "## 分析案例\n",
    "\n",
    "请对`data`文件夹中的数据进行分析，回答以下几个问题：\n",
    "\n",
    "### 第一组\n",
    "\n",
    "按医生分组分析：\n",
    "\n",
    "1. 患者年龄分布是什么样的？\n",
    "2. 最近一个月有多少比例的患者上传了血糖数据？上传血糖的患者中，人均测量次数是多少？\n",
    "3. 测量次数>=8次的患者各有多少人，这些患者的人均测量次数是多少？   \n",
    "4. 从化验数据中找出所有糖化血红蛋白（即HbA1c，默认单位是“%”）数据，分别分析总体患者及每位医生管理的患者中，基线值（即患者收录日期前180天至后收录日期后30天之间的最早一次化验）与管理一段时间之后的最新化验结果（即当前日期之前90天内的最后一次化验）的变化：\n",
    "   1. 管理前后的平均值和/或中位数分别多少，是否有显著差异？\n",
    "   2. 设糖化血红蛋白达标为：年龄>=65岁的患者要求 < 7.5%，年龄<65岁的患者要求<7%。不良为>9.5%。达标率和不良率分别如何？管理前后是否有显著差异？\n",
    "\n",
    "*提示：糖化血红蛋白数据可能需要适当探索和清洗。*\n"
   ]
  },
  {
   "cell_type": "code",
   "execution_count": 31,
   "id": "03ff2fa7",
   "metadata": {
    "ExecuteTime": {
     "end_time": "2021-08-23T02:13:17.713531Z",
     "start_time": "2021-08-23T02:13:17.686525Z"
    },
    "scrolled": false
   },
   "outputs": [
    {
     "name": "stdout",
     "output_type": "stream",
     "text": [
      "(535, 4)\n",
      "(3149, 3)\n",
      "(1416, 6)\n"
     ]
    },
    {
     "data": {
      "text/html": [
       "<div>\n",
       "<style scoped>\n",
       "    .dataframe tbody tr th:only-of-type {\n",
       "        vertical-align: middle;\n",
       "    }\n",
       "\n",
       "    .dataframe tbody tr th {\n",
       "        vertical-align: top;\n",
       "    }\n",
       "\n",
       "    .dataframe thead th {\n",
       "        text-align: right;\n",
       "    }\n",
       "</style>\n",
       "<table border=\"1\" class=\"dataframe\">\n",
       "  <thead>\n",
       "    <tr style=\"text-align: right;\">\n",
       "      <th></th>\n",
       "      <th>pat_id</th>\n",
       "      <th>create_time</th>\n",
       "      <th>age</th>\n",
       "      <th>doc_id</th>\n",
       "    </tr>\n",
       "  </thead>\n",
       "  <tbody>\n",
       "    <tr>\n",
       "      <th>0</th>\n",
       "      <td>P_0000209</td>\n",
       "      <td>2018-11-14 14:05:36</td>\n",
       "      <td>63</td>\n",
       "      <td>D_0000001</td>\n",
       "    </tr>\n",
       "    <tr>\n",
       "      <th>1</th>\n",
       "      <td>P_0000520</td>\n",
       "      <td>2019-02-27 19:55:03</td>\n",
       "      <td>41</td>\n",
       "      <td>D_0000001</td>\n",
       "    </tr>\n",
       "    <tr>\n",
       "      <th>2</th>\n",
       "      <td>P_0000200</td>\n",
       "      <td>2019-01-16 20:17:16</td>\n",
       "      <td>43</td>\n",
       "      <td>D_0000001</td>\n",
       "    </tr>\n",
       "  </tbody>\n",
       "</table>\n",
       "</div>"
      ],
      "text/plain": [
       "      pat_id          create_time  age     doc_id\n",
       "0  P_0000209  2018-11-14 14:05:36   63  D_0000001\n",
       "1  P_0000520  2019-02-27 19:55:03   41  D_0000001\n",
       "2  P_0000200  2019-01-16 20:17:16   43  D_0000001"
      ]
     },
     "metadata": {},
     "output_type": "display_data"
    },
    {
     "data": {
      "text/html": [
       "<div>\n",
       "<style scoped>\n",
       "    .dataframe tbody tr th:only-of-type {\n",
       "        vertical-align: middle;\n",
       "    }\n",
       "\n",
       "    .dataframe tbody tr th {\n",
       "        vertical-align: top;\n",
       "    }\n",
       "\n",
       "    .dataframe thead th {\n",
       "        text-align: right;\n",
       "    }\n",
       "</style>\n",
       "<table border=\"1\" class=\"dataframe\">\n",
       "  <thead>\n",
       "    <tr style=\"text-align: right;\">\n",
       "      <th></th>\n",
       "      <th>pat_id</th>\n",
       "      <th>create_time</th>\n",
       "      <th>glucose</th>\n",
       "    </tr>\n",
       "  </thead>\n",
       "  <tbody>\n",
       "    <tr>\n",
       "      <th>0</th>\n",
       "      <td>P_0000020</td>\n",
       "      <td>2021-06-01 02:34:18</td>\n",
       "      <td>4.6</td>\n",
       "    </tr>\n",
       "    <tr>\n",
       "      <th>1</th>\n",
       "      <td>P_0000020</td>\n",
       "      <td>2021-06-01 06:39:31</td>\n",
       "      <td>6.1</td>\n",
       "    </tr>\n",
       "    <tr>\n",
       "      <th>2</th>\n",
       "      <td>P_0000020</td>\n",
       "      <td>2021-06-02 08:17:35</td>\n",
       "      <td>11.7</td>\n",
       "    </tr>\n",
       "  </tbody>\n",
       "</table>\n",
       "</div>"
      ],
      "text/plain": [
       "      pat_id          create_time  glucose\n",
       "0  P_0000020  2021-06-01 02:34:18      4.6\n",
       "1  P_0000020  2021-06-01 06:39:31      6.1\n",
       "2  P_0000020  2021-06-02 08:17:35     11.7"
      ]
     },
     "metadata": {},
     "output_type": "display_data"
    },
    {
     "data": {
      "text/html": [
       "<div>\n",
       "<style scoped>\n",
       "    .dataframe tbody tr th:only-of-type {\n",
       "        vertical-align: middle;\n",
       "    }\n",
       "\n",
       "    .dataframe tbody tr th {\n",
       "        vertical-align: top;\n",
       "    }\n",
       "\n",
       "    .dataframe thead th {\n",
       "        text-align: right;\n",
       "    }\n",
       "</style>\n",
       "<table border=\"1\" class=\"dataframe\">\n",
       "  <thead>\n",
       "    <tr style=\"text-align: right;\">\n",
       "      <th></th>\n",
       "      <th>pat_id</th>\n",
       "      <th>lab_date</th>\n",
       "      <th>labreport_name</th>\n",
       "      <th>labitems_code</th>\n",
       "      <th>labitems_name</th>\n",
       "      <th>lab_value</th>\n",
       "    </tr>\n",
       "  </thead>\n",
       "  <tbody>\n",
       "    <tr>\n",
       "      <th>0</th>\n",
       "      <td>P_0000001</td>\n",
       "      <td>2020-07-02 09:15:29</td>\n",
       "      <td>糖化血红蛋白</td>\n",
       "      <td>1591</td>\n",
       "      <td>糖化血红蛋白A1c</td>\n",
       "      <td>8.30</td>\n",
       "    </tr>\n",
       "    <tr>\n",
       "      <th>1</th>\n",
       "      <td>P_0000001</td>\n",
       "      <td>2019-11-16 11:18:23</td>\n",
       "      <td>糖化血红蛋白（住院）</td>\n",
       "      <td>1591</td>\n",
       "      <td>糖化血红蛋白A1c</td>\n",
       "      <td>8.9</td>\n",
       "    </tr>\n",
       "    <tr>\n",
       "      <th>2</th>\n",
       "      <td>P_0000001</td>\n",
       "      <td>2018-11-20 17:30:27</td>\n",
       "      <td>糖化血红蛋白</td>\n",
       "      <td>1591</td>\n",
       "      <td>糖化血红蛋白A1c</td>\n",
       "      <td>10.1</td>\n",
       "    </tr>\n",
       "  </tbody>\n",
       "</table>\n",
       "</div>"
      ],
      "text/plain": [
       "      pat_id             lab_date labreport_name  labitems_code labitems_name  \\\n",
       "0  P_0000001  2020-07-02 09:15:29         糖化血红蛋白           1591     糖化血红蛋白A1c   \n",
       "1  P_0000001  2019-11-16 11:18:23     糖化血红蛋白（住院）           1591     糖化血红蛋白A1c   \n",
       "2  P_0000001  2018-11-20 17:30:27         糖化血红蛋白           1591     糖化血红蛋白A1c   \n",
       "\n",
       "  lab_value  \n",
       "0      8.30  \n",
       "1       8.9  \n",
       "2      10.1  "
      ]
     },
     "metadata": {},
     "output_type": "display_data"
    }
   ],
   "source": [
    "pts = pd.read_csv('./data/patient_list.csv')\n",
    "glu = pd.read_csv('./data/glucose.csv')\n",
    "lab = pd.read_csv('./data/lab.csv')\n",
    "print(pts.shape)\n",
    "print(glu.shape)\n",
    "print(lab.shape)\n",
    "display(pts.head(3), glu.head(3), lab.head(3))"
   ]
  },
  {
   "cell_type": "markdown",
   "id": "d2fc114d",
   "metadata": {},
   "source": [
    "#### 年龄分布"
   ]
  },
  {
   "cell_type": "code",
   "execution_count": null,
   "id": "17bc1f56",
   "metadata": {},
   "outputs": [],
   "source": []
  },
  {
   "cell_type": "markdown",
   "id": "95889708",
   "metadata": {},
   "source": [
    "#### 血糖测量情况"
   ]
  },
  {
   "cell_type": "code",
   "execution_count": null,
   "id": "7b087c0f",
   "metadata": {},
   "outputs": [],
   "source": []
  },
  {
   "cell_type": "markdown",
   "id": "5512fd22",
   "metadata": {},
   "source": [
    "#### 糖化血红蛋白"
   ]
  },
  {
   "cell_type": "code",
   "execution_count": null,
   "id": "15cf9745",
   "metadata": {},
   "outputs": [],
   "source": []
  },
  {
   "cell_type": "markdown",
   "id": "9b97f987",
   "metadata": {},
   "source": [
    "### 第二组（选做）\n",
    "\n",
    "5. 运用适当的统计分析方法调查，仅从本案例提供的信息中来看，近期化验的糖化血红蛋白是否达标，可能与什么因素相关？\n",
    "\n",
    "将上述分析结果选择合适的图表形式进行可视化表达。"
   ]
  },
  {
   "cell_type": "code",
   "execution_count": null,
   "id": "7fe6a8c5",
   "metadata": {},
   "outputs": [],
   "source": []
  },
  {
   "cell_type": "markdown",
   "id": "17075f53",
   "metadata": {},
   "source": [
    "## 答题要求\n",
    "\n",
    "1. 提交分析报告（.html或.pdf）和脚本（.py或.ipynb）；\n",
    "2. 计算结果准确；\n",
    "3. 分析思路清晰；\n",
    "4. 脚本可复现、可读性良好；\n",
    "5. 可视化效果简洁美观。\n",
    "\n",
    "## 附：数据字典\n",
    "\n",
    "**patient_list**\n",
    "\n",
    "收录患者名单。\n",
    "\n",
    "| 字段名 | 数据类型 | 注释 |\n",
    "| ------ | ------ | ------ |\n",
    "| pat_id | varchar(45) | 患者ID |\n",
    "| create_time | datetime | 收录时间 |\n",
    "| age | int(11) | 患者年龄 |\n",
    "| doc_id | varchar(45) | 主管医生 |\n",
    "\n",
    "**glucose**\n",
    "\n",
    "最近一个月患者的血糖数据\n",
    "\n",
    "| 字段名 | 数据类型 | 注释 |\n",
    "| ------ | ------ | ------ |\n",
    "| pat_id | varchar(45) | 患者ID |\n",
    "| create_time | datetime | 上传时间 |\n",
    "| glucose | decimal(3, 1) | 血糖值 |\n",
    "\n",
    "**lab**\n",
    "\n",
    "化验数据\n",
    "\n",
    "| 字段名 | 数据类型 | 注释 |\n",
    "| ------ | ------ | ------ |\n",
    "| pat_id | varchar(45) | 患者ID |\n",
    "| lab_date | datetime | 化验日期 |\n",
    "| labreport_name | varchar(200) | 化验报告标题 |\n",
    "| labitems_code | varchar(20) | 化验项目编号 |\n",
    "| labitems_name | varchar(200) | 化验项目名称 |\n",
    "| lab_value | varchar(45) | 化验结果 |"
   ]
  },
  {
   "cell_type": "code",
   "execution_count": null,
   "id": "874b5478",
   "metadata": {},
   "outputs": [],
   "source": []
  }
 ],
 "metadata": {
  "kernelspec": {
   "display_name": "dev",
   "language": "python",
   "name": "dev"
  },
  "language_info": {
   "codemirror_mode": {
    "name": "ipython",
    "version": 3
   },
   "file_extension": ".py",
   "mimetype": "text/x-python",
   "name": "python",
   "nbconvert_exporter": "python",
   "pygments_lexer": "ipython3",
   "version": "3.9.5"
  },
  "toc": {
   "base_numbering": 1,
   "nav_menu": {},
   "number_sections": true,
   "sideBar": true,
   "skip_h1_title": false,
   "title_cell": "Table of Contents",
   "title_sidebar": "Contents",
   "toc_cell": false,
   "toc_position": {},
   "toc_section_display": true,
   "toc_window_display": true
  },
  "varInspector": {
   "cols": {
    "lenName": 16,
    "lenType": 16,
    "lenVar": 40
   },
   "kernels_config": {
    "python": {
     "delete_cmd_postfix": "",
     "delete_cmd_prefix": "del ",
     "library": "var_list.py",
     "varRefreshCmd": "print(var_dic_list())"
    },
    "r": {
     "delete_cmd_postfix": ") ",
     "delete_cmd_prefix": "rm(",
     "library": "var_list.r",
     "varRefreshCmd": "cat(var_dic_list()) "
    }
   },
   "types_to_exclude": [
    "module",
    "function",
    "builtin_function_or_method",
    "instance",
    "_Feature"
   ],
   "window_display": false
  }
 },
 "nbformat": 4,
 "nbformat_minor": 5
}
